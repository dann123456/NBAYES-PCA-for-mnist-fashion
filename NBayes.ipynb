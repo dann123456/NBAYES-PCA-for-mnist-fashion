{
 "cells": [
  {
   "cell_type": "code",
   "execution_count": 36,
   "metadata": {},
   "outputs": [],
   "source": [
    "import os\n",
    "import time\n",
    "import h5py\n",
    "import random\n",
    "import math\n",
    "import operator\n",
    "import numpy as np\n",
    "import pandas as pd\n",
    "import matplotlib.pyplot as plt\n",
    "random.seed(7)"
   ]
  },
  {
   "cell_type": "markdown",
   "metadata": {},
   "source": [
    "## Read input data"
   ]
  },
  {
   "cell_type": "code",
   "execution_count": 37,
   "metadata": {},
   "outputs": [
    {
     "name": "stdout",
     "output_type": "stream",
     "text": [
      "(30000, 784) (30000,)\n"
     ]
    }
   ],
   "source": [
    "# Load the train images and labels data and check the shape\n",
    "\n",
    "with h5py.File('input/train/images_training.h5','r') as H:\n",
    "    data_train = np.copy(H['datatrain'])\n",
    "with h5py.File('input/train/labels_training.h5','r') as H:\n",
    "    label_train = np.copy(H['labeltrain'])\n",
    "\n",
    "print(data_train.shape,label_train.shape) #30,000 images and each image has 784 features"
   ]
  },
  {
   "cell_type": "code",
   "execution_count": 38,
   "metadata": {},
   "outputs": [
    {
     "name": "stdout",
     "output_type": "stream",
     "text": [
      "(10000, 784) (2000,)\n"
     ]
    }
   ],
   "source": [
    "# Load the test images and labels data and check the shape \n",
    "# as followed the instruction that using H['datatest'], H['labeltest'] for test dataset\n",
    "\n",
    "with h5py.File('input/test/images_testing.h5','r') as H:\n",
    "    data_test = np.copy(H['datatest'])\n",
    "with h5py.File('input/test/labels_testing_2000.h5','r') as H:\n",
    "    label_test = np.copy(H['labeltest'])\n",
    "    \n",
    "print(data_test.shape,label_test.shape) #10,000 test examples, 2000 of them have labels"
   ]
  },
  {
   "cell_type": "markdown",
   "metadata": {},
   "source": [
    "## Naive Bayes Implementation"
   ]
  },
  {
   "cell_type": "code",
   "execution_count": 65,
   "metadata": {},
   "outputs": [],
   "source": [
    "import random\n",
    "import math\n",
    "\n",
    "# Handle data : split the data set randomly\n",
    "\n",
    "def split_dataset(dataset, split_ratio):\n",
    "    train_size = int(len(dataset) * split_ratio)\n",
    "    train_set = []\n",
    "    copy = list(dataset)\n",
    "    while len(train_set) < train_size:\n",
    "        index = random.randrange(len(copy))\n",
    "        train_set.append(copy.pop(index))\n",
    "    return [np.array(train_set), np.array(copy)]\n",
    "\n",
    "def separateByClass(dataset):\n",
    "    separated = {}\n",
    "    for i in range(len(dataset)):\n",
    "        vector = dataset[i]\n",
    "        if (vector[-1] not in separated):\n",
    "            separated[vector[-1]] = []\n",
    "        separated[vector[-1]].append(vector)\n",
    "    return separated\n",
    "\n",
    "#def mean(numbers):\n",
    "#    return sum(numbers)/float(len(numbers))\n",
    "\n",
    "def stdev(numbers):\n",
    "    avg = mean(numbers)\n",
    "    variance = sum([pow(x-avg,2) for x in numbers])/float(len(numbers)-1)\n",
    "    return math.sqrt(variance)\n",
    "\n",
    "def summarize(dataset):\n",
    "    summaries = [(mean(attribute), stdev(attribute)) for attribute in zip(*dataset)]\n",
    "    del summaries[-1]\n",
    "    return summaries\n",
    "\n",
    "def summarizeByClass(dataset):\n",
    "    separated = separateByClass(dataset)\n",
    "    summaries = {}\n",
    "    for classValue, instances in separated.items():\n",
    "        summaries[classValue] = summarize(instances)\n",
    "    return summaries\n",
    "\n",
    "def calculateProbability(x, mean, stdev):\n",
    "    exponent = math.exp(-(math.pow(x-mean,2)/(2*math.pow(stdev,2))))\n",
    "    return (1 / (math.sqrt(2*math.pi) * stdev)) * exponent\n",
    "\n",
    "def calculateClassProbabilities(summaries, inputVector):\n",
    "    probabilities = {}\n",
    "    for classValue, classSummaries in summaries.items():\n",
    "        probabilities[classValue] = 1\n",
    "        for i in range(len(classSummaries)):\n",
    "            mean, stdev = classSummaries[i]\n",
    "            x = inputVector[i]\n",
    "            probabilities[classValue] *= calculateProbability(x, mean, stdev)\n",
    "    return probabilities\n",
    "\n",
    "def predict(summaries, inputVector):\n",
    "    probabilities = calculateClassProbabilities(summaries, inputVector)\n",
    "    bestLabel, bestProb = None, -1\n",
    "    for classValue, probability in probabilities.items():\n",
    "        if bestLabel is None or probability > bestProb:\n",
    "            bestProb = probability\n",
    "            bestLabel = classValue\n",
    "    return bestLabel\n",
    "\n",
    "def getPredictions(summaries, testSet):\n",
    "    predictions = []\n",
    "    for i in range(len(testSet)):\n",
    "        result = predict(summaries, testSet[i])\n",
    "        predictions.append(result)\n",
    "    return predictions\n",
    "\n",
    "def getAccuracy(testSet, predictions):\n",
    "    correct = 0\n",
    "    for i in range(len(testSet)):\n",
    "        if testSet[i][-1] == predictions[i]:\n",
    "            correct += 1\n",
    "    return (correct/float(len(testSet))) * 100.0\n",
    "\n",
    "def concat_array(x, y):\n",
    "    return np.concatenate((x, np.reshape(y, (len(y), 1))), axis=1)"
   ]
  },
  {
   "cell_type": "markdown",
   "metadata": {},
   "source": [
    "## PCA Implementation"
   ]
  },
  {
   "cell_type": "code",
   "execution_count": 56,
   "metadata": {},
   "outputs": [],
   "source": [
    "# Create PCA space and projection of new data points\n",
    "\n",
    "from numpy import mean\n",
    "from numpy import cov\n",
    "from numpy.linalg import eig\n",
    "\n",
    "def pca(x_train, component):\n",
    "\n",
    "    # calculate the mean of each column\n",
    "    M = mean(x_train.T, axis=1)\n",
    "    # center columns by subtracting column means\n",
    "    C = x_train - M\n",
    "    # calculate covariance matrix of centered matrix\n",
    "    V = cov(C.T)\n",
    "    \n",
    "    # eigendecomposition of covariance matrix\n",
    "    values, vectors = eig(V)\n",
    "\n",
    "    # Make a list of (eigenvalue, eigenvector) tuples\n",
    "    eig_pairs = [(np.abs(values[i]), vectors[:,i]) for i in range(len(vectors))]\n",
    "\n",
    "    # Sort the (eigenvalue, eigenvector) tuples from high to low\n",
    "    eig_pairs.sort(key=lambda x: x[0], reverse=True)\n",
    "\n",
    "    tot = sum(values)\n",
    "    var_exp = [(i / tot)*100 for i in sorted(values, reverse=True)]\n",
    "    cum_var_exp = np.cumsum(var_exp)\n",
    "    #print(\"Variance captured by each component is \\n\",var_exp[0:50])\n",
    "    #print(40 * '-')\n",
    "    print(\"Cumulative variance captured at component number\", component, \"is\",cum_var_exp[component],\"%\\n\")\n",
    "    \n",
    "    \n",
    "    plt.plot(list(range(1,len(cum_var_exp)+1)), cum_var_exp)\n",
    "    plt.xlabel('PCA Component')\n",
    "    plt.ylabel('Cumulative Var explained')\n",
    "\n",
    "    P = C.dot(vectors[:,0:component])\n",
    "    return [P, vectors[:,0:component]]\n",
    "    \n",
    "def projection(new, vectors):\n",
    "    # calculate the mean of each column\n",
    "    M = mean(new.T, axis=1)\n",
    "    # center columns by subtracting column means\n",
    "    C = new - M\n",
    "    P = C.dot(vectors)\n",
    "    return P"
   ]
  },
  {
   "cell_type": "code",
   "execution_count": 53,
   "metadata": {},
   "outputs": [],
   "source": [
    "# Confusion Matrix : Calculate and show the confusion matrix\n",
    "\n",
    "def calc_confusionmatrix(x_test, y_pred):\n",
    "    labels=np.unique(y_pred)\n",
    "    K = len(labels)\n",
    "    confusionmatrix = np.zeros((K, K))\n",
    "    \n",
    "    for i in range(len(y_pred)):\n",
    "        confusionmatrix[int(x_test[i][-1])][int(y_pred[i])] +=1\n",
    "    \n",
    "    return confusionmatrix\n",
    "\n",
    "def show_confusionmatrix_graph(confusionmatrix):\n",
    "    fig, ax = plt.subplots()\n",
    "    im = ax.imshow(confusionmatrix, interpolation='nearest', cmap=plt.cm.Blues)\n",
    "    ax.figure.colorbar(im, ax=ax)\n",
    "    plt.show()"
   ]
  },
  {
   "cell_type": "markdown",
   "metadata": {},
   "source": [
    "## Discretization with pandas"
   ]
  },
  {
   "cell_type": "code",
   "execution_count": 128,
   "metadata": {},
   "outputs": [],
   "source": [
    "import pandas as pd\n",
    "import numpy as np\n",
    "\n",
    "def discretize(dataset):\n",
    "    result_array = np.empty((0, dataset.shape[0]))\n",
    "    \n",
    "    # lines are the columns in this case 50 line needed to be appended\n",
    "    for line in dataset.T:\n",
    "        # create new to be new line with categorical range\n",
    "        new = pd.cut(line, bins=10, labels=False)\n",
    "        result_array = np.append(result_array, [new], axis=0)\n",
    "        \n",
    "    return result_array.T"
   ]
  },
  {
   "cell_type": "markdown",
   "metadata": {},
   "source": [
    "## Run predictions"
   ]
  },
  {
   "cell_type": "code",
   "execution_count": 129,
   "metadata": {
    "scrolled": false
   },
   "outputs": [
    {
     "name": "stdout",
     "output_type": "stream",
     "text": [
      "Cumulative variance captured at component number 50 is 86.42872569897725 %\n",
      "\n",
      "pca train shape:  (24000, 50)\n",
      "pca test shape:  (6000, 50) \n",
      "\n",
      "Validation accuracy: 78.25 %\n",
      "Running duration: 6.605255365371704 seconds\n",
      "(6000,)\n"
     ]
    },
    {
     "data": {
      "image/png": "[encoded data removed]",
      "text/plain": [
       "<Figure size 432x288 with 1 Axes>"
      ]
     },
     "metadata": {
      "needs_background": "light"
     },
     "output_type": "display_data"
    },
    {
     "data": {
      "image/png": "[encoded data removed]",
      "text/plain": [
       "<Figure size 432x288 with 2 Axes>"
      ]
     },
     "metadata": {
      "needs_background": "light"
     },
     "output_type": "display_data"
    }
   ],
   "source": [
    "def run_training(x_train, y_train):\n",
    "    \n",
    "    data_set = concat_array(x_train, y_train)\n",
    "    split_ratio = 0.8\n",
    "    training_set, test_set = split_dataset(data_set, split_ratio)\n",
    "    \n",
    "    # Apply pca with training set using 50 components\n",
    "    train, vectors = pca(training_set[:,0:-1], 50)\n",
    "    print(\"pca train shape: \",train.shape)\n",
    "    \n",
    "    #train = discretize(train)\n",
    "    #print(\"discretize train shape:\", train.shape)\n",
    "    \n",
    "    # projection of new data onto pca\n",
    "    test = projection(test_set[:,0:-1], vectors)\n",
    "    print(\"pca test shape: \",test.shape, \"\\n\")\n",
    "    \n",
    "    #test = discretize(test)\n",
    "    #print(\"discretize test shape:\", test.shape)\n",
    "    \n",
    "    train = concat_array(train, training_set[:,-1])\n",
    "    test = concat_array(test, test_set[:,-1])\n",
    "    \n",
    "    start = time.time()\n",
    "    summaries = summarizeByClass(train)\n",
    "    predictions = getPredictions(summaries, test)\n",
    "    end = time.time()\n",
    "\n",
    "    # get accuracy of the predictions\n",
    "    accuracy = getAccuracy(test_set, predictions)\n",
    "    print('Validation accuracy: ' + repr(accuracy), '%')\n",
    "    print('Running duration: ' + repr(end - start), \"seconds\")\n",
    "    \n",
    "    label = np.asarray(predictions)\n",
    "    print(label.shape)\n",
    "    \n",
    "    show_confusionmatrix_graph(calc_confusionmatrix(test_set, predictions))\n",
    "\n",
    "run_training(\n",
    "    data_train, \n",
    "    label_train\n",
    ")"
   ]
  },
  {
   "cell_type": "code",
   "execution_count": 130,
   "metadata": {},
   "outputs": [],
   "source": [
    "# assume output is the predicted labels\n",
    "# (5000,) \n",
    "def output_result(output):\n",
    "    with h5py.File('output/predicted_labels.h5','w') as H:\n",
    "        H.create_dataset('output',data=output)\n",
    "\n",
    "    print(output)"
   ]
  },
  {
   "cell_type": "code",
   "execution_count": 131,
   "metadata": {},
   "outputs": [
    {
     "name": "stdout",
     "output_type": "stream",
     "text": [
      "Cumulative variance captured at component number 50 is 86.40140010931123 %\n",
      "\n",
      "pca train shape:  (30000, 50)\n",
      "pca test shape:  (5000, 50) \n",
      "\n",
      "Test accuracy on 2k test samples: 76.35%\n",
      "Running duration: 6.0223143100738525seconds\n",
      "(5000,)\n",
      "[1. 0. 9. ... 5. 3. 5.]\n"
     ]
    },
    {
     "data": {
      "image/png": "[encoded data removed]",
      "text/plain": [
       "<Figure size 432x288 with 1 Axes>"
      ]
     },
     "metadata": {
      "needs_background": "light"
     },
     "output_type": "display_data"
    },
    {
     "data": {
      "image/png": "[encoded data removed]",
      "text/plain": [
       "<Figure size 432x288 with 2 Axes>"
      ]
     },
     "metadata": {
      "needs_background": "light"
     },
     "output_type": "display_data"
    }
   ],
   "source": [
    "# run testing with 30k train and 2k test data set\n",
    "def run_testing(x_train, y_train, x_test, y_test):\n",
    "    # pca the 30k dataset using 50 components\n",
    "    # train variables = the pca matrix output\n",
    "    # vectors = eigen vectors of from the pca\n",
    "    train, vectors = pca(x_train, 50)\n",
    "    print(\"pca train shape: \",train.shape)\n",
    "    \n",
    "    # projection of 5k new data onto pca\n",
    "    test = projection(x_test, vectors)\n",
    "    print(\"pca test shape: \",test.shape, \"\\n\")\n",
    "    \n",
    "    train = concat_array(train, y_train)\n",
    "    # fill the label array with 0 for the 8k unlabeled samples\n",
    "    test = concat_array(test, np.pad(y_test, (0, 3000), 'constant'))\n",
    "\n",
    "    # Train 30k and make prediction on 10k test samples\n",
    "    start = time.time()\n",
    "    summaries = summarizeByClass(train)\n",
    "    predictions = getPredictions(summaries, test)\n",
    "    end = time.time()\n",
    "    \n",
    "    # get accuracy of the 1st 2k test predictions\n",
    "    accuracy = getAccuracy(test[0:2000], predictions[0:2000])\n",
    "    print('Test accuracy on 2k test samples: ' + repr(accuracy) + '%')\n",
    "    print('Running duration: ' + repr(end - start) + \"seconds\")\n",
    "    \n",
    "    \n",
    "    label = np.asarray(predictions)\n",
    "    print(label.shape)\n",
    "    # output the predict array\n",
    "    output_result(label) \n",
    "    show_confusionmatrix_graph(calc_confusionmatrix(test, predictions))\n",
    "    \n",
    "run_testing(\n",
    "    data_train, \n",
    "    label_train, \n",
    "    data_test[0:5000], \n",
    "    label_test[0:5000]\n",
    ")"
   ]
  },
  {
   "cell_type": "code",
   "execution_count": 132,
   "metadata": {},
   "outputs": [
    {
     "name": "stdout",
     "output_type": "stream",
     "text": [
      "(5000,)\n",
      "[1. 0. 9. ... 5. 3. 5.]\n"
     ]
    }
   ],
   "source": [
    "# cross check the output file\n",
    "\n",
    "# Open and read the printed output\n",
    "with h5py.File('./output/predicted_labels.h5','r') as H:\n",
    "    test_result_label = np.copy(H['output'])\n",
    "    \n",
    "print(test_result_label.shape)\n",
    "print(test_result_label)"
   ]
  },
  {
   "cell_type": "markdown",
   "metadata": {},
   "source": [
    "## The end"
   ]
  }
 ],
 "metadata": {
  "kernelspec": {
   "display_name": "Python 3",
   "language": "python",
   "name": "python3"
  },
  "language_info": {
   "codemirror_mode": {
    "name": "ipython",
    "version": 3
   },
   "file_extension": ".py",
   "mimetype": "text/x-python",
   "name": "python",
   "nbconvert_exporter": "python",
   "pygments_lexer": "ipython3",
   "version": "3.7.3"
  }
 },
 "nbformat": 4,
 "nbformat_minor": 2
}
